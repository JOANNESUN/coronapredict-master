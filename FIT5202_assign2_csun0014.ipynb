{
 "cells": [
  {
   "cell_type": "markdown",
   "metadata": {},
   "source": [
    "# Step 01: Import Spark Session and initialize Spark"
   ]
  },
  {
   "cell_type": "code",
   "execution_count": 2,
   "metadata": {},
   "outputs": [],
   "source": [
    "# Step 01: Import Spark Session and initialize Spark\n",
    "# create entry points to spark\n",
    "from pyspark import SparkContext # Spark\n",
    "from pyspark.sql import SparkSession # Spark SQL\n",
    "\n",
    "# We add this line to avoid an error : \"Cannot run multiple SparkContexts at once\". \n",
    "# If there is an existing spark context, we will reuse it instead of creating a new context.\n",
    "sc = SparkContext.getOrCreate()\n",
    "\n",
    "# local[*]: run Spark locally with as many working processors as logical cores on your machine.\n",
    "# In the field of `master`, we use a local server with as many working processors (or threads) as possible (i.e. `local[*]`). \n",
    "# If we want Spark to run locally with 'k' worker threads, we can specify as `local[k]`.\n",
    "# The `appName` field is a name to be shown on the Sparking cluster UI. \n",
    "\n",
    "# If there is no existing spark context, we now create a new context\n",
    "if (sc is None):\n",
    "    sc = SparkContext(master=\"local[4]\", appName=\"assignment2\")\n",
    "spark = SparkSession(sparkContext=sc)"
   ]
  },
  {
   "cell_type": "code",
   "execution_count": 3,
   "metadata": {},
   "outputs": [],
   "source": [
    "from pyspark.sql.functions import *"
   ]
  },
  {
   "cell_type": "markdown",
   "metadata": {},
   "source": [
    "# Step 02: Load the dataset and print the schema and total number of entries"
   ]
  },
  {
   "cell_type": "code",
   "execution_count": 4,
   "metadata": {
    "scrolled": false
   },
   "outputs": [
    {
     "name": "stdout",
     "output_type": "stream",
     "text": [
      "Number of entry in the dataset is:142193\n",
      "Number of columns: 23\n"
     ]
    }
   ],
   "source": [
    "#Step 02: Load the dataset and print the schema and total number of entries\n",
    "WA_df = spark.read.csv('weatherAUS.csv', header=True)\n",
    "WA_df.count() # counting the number of the records \n",
    "print (f\"Number of entry in the dataset is:{WA_df.count()}\")\n",
    "print (f\"Number of columns: {(len(WA_df.columns))}\")\n",
    "#WA_df.describe().show()"
   ]
  },
  {
   "cell_type": "markdown",
   "metadata": {},
   "source": [
    "# Step 03: Delete columns from the dataset"
   ]
  },
  {
   "cell_type": "code",
   "execution_count": 5,
   "metadata": {
    "scrolled": true
   },
   "outputs": [
    {
     "name": "stdout",
     "output_type": "stream",
     "text": [
      "Number of columns after deleting unnecessary columns: 15\n"
     ]
    }
   ],
   "source": [
    "# Step 03: Delete columns from the dataset\n",
    "# Date,Location, Evaporation, Sunshine, Cloud9am, Cloud3pm, Temp9am, Temp3pm\n",
    "WA_df_drop = WA_df.drop('Date','Location','Evaporation','Sunshine','Cloud9am','Cloud3pm','Temp9am','Temp3pm')\n",
    "#WA_df_drop.printSchema()\n",
    "print(f\"Number of columns after deleting unnecessary columns: {(len(WA_df_drop.columns))}\")"
   ]
  },
  {
   "cell_type": "markdown",
   "metadata": {},
   "source": [
    "# Step 04: Print the number of missing data (NA) in each column"
   ]
  },
  {
   "cell_type": "code",
   "execution_count": 6,
   "metadata": {
    "scrolled": false
   },
   "outputs": [
    {
     "name": "stdout",
     "output_type": "stream",
     "text": [
      "+-------+-------+--------+-----------+-------------+----------+----------+------------+------------+-----------+-----------+-----------+-----------+---------+------------+\n",
      "|MinTemp|MaxTemp|Rainfall|WindGustDir|WindGustSpeed|WindDir9am|WindDir3pm|WindSpeed9am|WindSpeed3pm|Humidity9am|Humidity3pm|Pressure9am|Pressure3pm|RainToday|RainTomorrow|\n",
      "+-------+-------+--------+-----------+-------------+----------+----------+------------+------------+-----------+-----------+-----------+-----------+---------+------------+\n",
      "|    637|    322|    1406|       9330|         9270|     10013|      3778|        1348|        2630|       1774|       3610|      14014|      13981|     1406|           0|\n",
      "+-------+-------+--------+-----------+-------------+----------+----------+------------+------------+-----------+-----------+-----------+-----------+---------+------------+\n",
      "\n"
     ]
    }
   ],
   "source": [
    "# Step 04: Print the number of missing data (NA) in each column\n",
    "from pyspark.sql.functions import col,sum\n",
    "WA_df_drop.select(*(sum(col(c).isin('NA').cast(\"int\")).alias(c) for c in WA_df_drop.columns)).show()"
   ]
  },
  {
   "cell_type": "markdown",
   "metadata": {},
   "source": [
    "# Step 05: Fill the missing data with average value and maximum occurrence value."
   ]
  },
  {
   "cell_type": "code",
   "execution_count": 7,
   "metadata": {},
   "outputs": [],
   "source": [
    "# Step 05: Fill the missing data with average value and maximum occurrence value.\n",
    "# 1: identify columns with numeric value \n",
    "# 2: calculate avg and replace null with avg \n",
    "# 3: idenfify columns with non-numeric values\n",
    "# 4: find the most frequent item and replace with mfi "
   ]
  },
  {
   "cell_type": "code",
   "execution_count": 8,
   "metadata": {},
   "outputs": [],
   "source": [
    "# 1: examine which columns are numeric and not \n",
    "#WA_df_drop.show(1)"
   ]
  },
  {
   "cell_type": "code",
   "execution_count": 9,
   "metadata": {},
   "outputs": [],
   "source": [
    "from pyspark.sql.functions import countDistinct, avg, stddev, min, max, sum, count\n",
    "from pyspark.sql.functions import when, lit\n",
    "import numpy as np"
   ]
  },
  {
   "cell_type": "code",
   "execution_count": 10,
   "metadata": {
    "scrolled": true
   },
   "outputs": [],
   "source": [
    "# 3: replace null with avg \n",
    "WA_df_step5a = WA_df_drop\\\n",
    ".withColumn('MinTemp', when(WA_df_drop.MinTemp=='NA', WA_df_drop.agg(avg('MinTemp')).collect()[0][0]).otherwise(WA_df_drop.MinTemp))\\\n",
    ".withColumn('MaxTemp', when(WA_df_drop.MaxTemp=='NA', WA_df_drop.agg(avg('MaxTemp')).collect()[0][0]).otherwise(WA_df_drop.MaxTemp))\\\n",
    ".withColumn('Rainfall', when(WA_df_drop.Rainfall=='NA', WA_df_drop.agg(avg('Rainfall')).collect()[0][0]).otherwise(WA_df_drop.Rainfall))\\\n",
    ".withColumn('WindGustSpeed', when(WA_df_drop.WindGustSpeed=='NA', WA_df_drop.agg(avg('WindGustSpeed')).collect()[0][0]).otherwise(WA_df_drop.WindGustSpeed))\\\n",
    ".withColumn('WindSpeed9am', when(WA_df_drop.WindSpeed9am=='NA', WA_df_drop.agg(avg('WindSpeed9am')).collect()[0][0]).otherwise(WA_df_drop.WindSpeed9am))\\\n",
    ".withColumn('WindSpeed3pm', when(WA_df_drop.WindSpeed3pm=='NA', WA_df_drop.agg(avg('WindSpeed3pm')).collect()[0][0]).otherwise(WA_df_drop.WindSpeed3pm))\\\n",
    ".withColumn('Humidity9am', when(WA_df_drop.Humidity9am=='NA', WA_df_drop.agg(avg('Humidity9am')).collect()[0][0]).otherwise(WA_df_drop.Humidity9am))\\\n",
    ".withColumn('Humidity3pm', when(WA_df_drop.Humidity3pm=='NA', WA_df_drop.agg(avg('Humidity3pm')).collect()[0][0]).otherwise(WA_df_drop.Humidity3pm))\\\n",
    ".withColumn('Pressure9am', when(WA_df_drop.Pressure9am=='NA', WA_df_drop.agg(avg('Pressure9am')).collect()[0][0]).otherwise(WA_df_drop.Pressure9am))\\\n",
    ".withColumn('Pressure3pm', when(WA_df_drop.Pressure3pm=='NA', WA_df_drop.agg(avg('Pressure3pm')).collect()[0][0]).otherwise(WA_df_drop.Pressure3pm))\n",
    "\n",
    "#WA_df_step5a.show()"
   ]
  },
  {
   "cell_type": "code",
   "execution_count": 11,
   "metadata": {},
   "outputs": [],
   "source": [
    "def get_mode(schema):\n",
    "    \n",
    "    def take_second(key):\n",
    "        return key[1]\n",
    "    \n",
    "    column = WA_df_step5a.groupby(WA_df_step5a[schema]).count().collect()\n",
    "    column.sort(key=take_second, reverse=True)\n",
    "    mode = column[0]\n",
    "    print(mode)\n",
    "    return mode[0]"
   ]
  },
  {
   "cell_type": "code",
   "execution_count": 12,
   "metadata": {},
   "outputs": [
    {
     "name": "stdout",
     "output_type": "stream",
     "text": [
      "Row(WindGustDir='W', count=9780)\n",
      "Row(WindDir9am='N', count=11393)\n",
      "Row(WindDir3pm='SE', count=10663)\n",
      "Row(RainToday='No', count=109332)\n",
      "Row(RainTomorrow='No', count=110316)\n"
     ]
    }
   ],
   "source": [
    "# 4: find the most frequent item and replace with mfi \n",
    "WA_df_step5b_new = WA_df_step5a\\\n",
    ".withColumn('WindGustDir',when(WA_df_step5a.WindGustDir=='NA', get_mode('WindGustDir')).otherwise(WA_df_step5a.WindGustDir))\\\n",
    ".withColumn('WindDir9am',when(WA_df_step5a.WindDir9am=='NA', get_mode('WindDir9am')).otherwise(WA_df_step5a.WindDir9am))\\\n",
    ".withColumn('WindDir3pm',when(WA_df_step5a.WindDir3pm=='NA', get_mode('WindDir3pm')).otherwise(WA_df_step5a.WindDir3pm))\\\n",
    ".withColumn('RainToday',when(WA_df_step5a.RainToday=='NA', get_mode('RainToday')).otherwise(WA_df_step5a.RainToday))\\\n",
    ".withColumn('RainTomorrow',when(WA_df_step5a.RainTomorrow=='NA', get_mode('RainTomorrow')).otherwise(WA_df_step5a.RainTomorrow))\n",
    "#WA_df_step5b_new.show()"
   ]
  },
  {
   "cell_type": "markdown",
   "metadata": {},
   "source": [
    "# Step 06: Data transformation"
   ]
  },
  {
   "cell_type": "code",
   "execution_count": 13,
   "metadata": {},
   "outputs": [],
   "source": [
    "#1 \n",
    "from pyspark.ml import Pipeline\n",
    "from pyspark.ml.feature import StringIndexer\n",
    "from pyspark.sql.types import DoubleType"
   ]
  },
  {
   "cell_type": "code",
   "execution_count": 14,
   "metadata": {},
   "outputs": [],
   "source": [
    "#WA_df_step5b_new.printSchema()"
   ]
  },
  {
   "cell_type": "code",
   "execution_count": 15,
   "metadata": {
    "scrolled": true
   },
   "outputs": [],
   "source": [
    "#2: split the documents into numeric and non-numeric dataframe and transform seperately \n",
    "WA_df_string_trans = WA_df_step5b_new.select('RainToday','RainTomorrow','WindGustDir','WindDir9am','WindDir3pm')\n",
    "#WA_df_string_trans.printSchema()\n",
    "WA_df_number_trans = WA_df_step5b_new.drop('RainToday','RainTomorrow','WindGustDir','WindDir9am','WindDir3pm')\n",
    "#WA_df_number_trans.printSchema()"
   ]
  },
  {
   "cell_type": "code",
   "execution_count": 16,
   "metadata": {},
   "outputs": [
    {
     "name": "stdout",
     "output_type": "stream",
     "text": [
      "+-----------+---------+----------+----------+------------+\n",
      "|WindGustDir|RainToday|WindDir3pm|WindDir9am|RainTomorrow|\n",
      "+-----------+---------+----------+----------+------------+\n",
      "|        0.0|      0.0|       7.0|       6.0|         0.0|\n",
      "|        9.0|      0.0|       3.0|       9.0|         0.0|\n",
      "|        6.0|      0.0|       3.0|       6.0|         0.0|\n",
      "|       13.0|      0.0|      10.0|       1.0|         0.0|\n",
      "|        0.0|      0.0|       8.0|      10.0|         0.0|\n",
      "+-----------+---------+----------+----------+------------+\n",
      "only showing top 5 rows\n",
      "\n"
     ]
    }
   ],
   "source": [
    "#3: transform non-numeric string into double \n",
    "Indexer = [StringIndexer(inputCol=column,outputCol = column+\"_index\").fit(WA_df_string_trans)\\\n",
    "           for column in list(set(WA_df_string_trans.columns))]\n",
    "pipeline = Pipeline(stages = Indexer)\n",
    "trail3 = pipeline.fit(WA_df_string_trans).transform(WA_df_string_trans)\n",
    "#4: drop string type columns\n",
    "trail4 = trail3.drop('RainToday','RainTomorrow','WindGustDir','WindDir9am','WindDir3pm')\n",
    "#trail4.printSchema()\n",
    "#5: rename the columns \n",
    "WA_df_2 = trail4.withColumnRenamed('WindGustDir_index','WindGustDir')\\\n",
    ".withColumnRenamed('RainTomorrow_index','RainTomorrow')\\\n",
    ".withColumnRenamed('WindDir9am_index','WindDir9am')\\\n",
    ".withColumnRenamed('WindDir3pm_index','WindDir3pm')\\\n",
    ".withColumnRenamed('RainToday_index','RainToday')\n",
    "#WA_df_2.printSchema()\n",
    "WA_df_2.show(5)"
   ]
  },
  {
   "cell_type": "code",
   "execution_count": 17,
   "metadata": {},
   "outputs": [
    {
     "name": "stdout",
     "output_type": "stream",
     "text": [
      "+-------+-------+--------+-------------+------------+------------+-----------+-----------+-----------+-----------+\n",
      "|MinTemp|MaxTemp|Rainfall|WindGustSpeed|WindSpeed9am|WindSpeed3pm|Humidity9am|Humidity3pm|Pressure9am|Pressure3pm|\n",
      "+-------+-------+--------+-------------+------------+------------+-----------+-----------+-----------+-----------+\n",
      "|   13.4|   22.9|     0.6|         44.0|        20.0|        24.0|       71.0|       22.0|     1007.7|     1007.1|\n",
      "|    7.4|   25.1|     0.0|         44.0|         4.0|        22.0|       44.0|       25.0|     1010.6|     1007.8|\n",
      "|   12.9|   25.7|     0.0|         46.0|        19.0|        26.0|       38.0|       30.0|     1007.6|     1008.7|\n",
      "|    9.2|   28.0|     0.0|         24.0|        11.0|         9.0|       45.0|       16.0|     1017.6|     1012.8|\n",
      "|   17.5|   32.3|     1.0|         41.0|         7.0|        20.0|       82.0|       33.0|     1010.8|     1006.0|\n",
      "+-------+-------+--------+-------------+------------+------------+-----------+-----------+-----------+-----------+\n",
      "only showing top 5 rows\n",
      "\n"
     ]
    }
   ],
   "source": [
    "#6: transform numeric string into double \n",
    "WA_df_1 = WA_df_number_trans.withColumn('MinTemp', WA_df_number_trans['MinTemp'].cast('double'))\\\n",
    ".withColumn('MaxTemp', WA_df_number_trans['MaxTemp'].cast('double'))\\\n",
    ".withColumn('Rainfall', WA_df_number_trans['Rainfall'].cast('double'))\\\n",
    ".withColumn('WindGustSpeed', WA_df_number_trans['WindGustSpeed'].cast('double'))\\\n",
    ".withColumn('WindSpeed9am', WA_df_number_trans['WindSpeed9am'].cast('double'))\\\n",
    ".withColumn('WindSpeed3pm', WA_df_number_trans['WindSpeed3pm'].cast('double'))\\\n",
    ".withColumn('Humidity9am', WA_df_number_trans['Humidity9am'].cast('double'))\\\n",
    ".withColumn('Humidity3pm', WA_df_number_trans['Humidity3pm'].cast('double'))\\\n",
    ".withColumn('Pressure9am', WA_df_number_trans['Pressure9am'].cast('double'))\\\n",
    ".withColumn('Pressure3pm', WA_df_number_trans['Pressure3pm'].cast('double'))\n",
    "WA_df_1.show(5)"
   ]
  },
  {
   "cell_type": "code",
   "execution_count": 18,
   "metadata": {
    "scrolled": true
   },
   "outputs": [
    {
     "name": "stdout",
     "output_type": "stream",
     "text": [
      "+-------+-------+--------+-------------+------------+------------+-----------+-----------+-----------+-----------+-----------+---------+----------+----------+------------+\n",
      "|MinTemp|MaxTemp|Rainfall|WindGustSpeed|WindSpeed9am|WindSpeed3pm|Humidity9am|Humidity3pm|Pressure9am|Pressure3pm|WindGustDir|RainToday|WindDir3pm|WindDir9am|RainTomorrow|\n",
      "+-------+-------+--------+-------------+------------+------------+-----------+-----------+-----------+-----------+-----------+---------+----------+----------+------------+\n",
      "|   13.4|   22.9|     0.6|         44.0|        20.0|        24.0|       71.0|       22.0|     1007.7|     1007.1|        0.0|      0.0|       7.0|       6.0|         0.0|\n",
      "|    7.4|   25.1|     0.0|         44.0|         4.0|        22.0|       44.0|       25.0|     1010.6|     1007.8|        9.0|      0.0|       3.0|       9.0|         0.0|\n",
      "|   12.9|   25.7|     0.0|         46.0|        19.0|        26.0|       38.0|       30.0|     1007.6|     1008.7|        6.0|      0.0|       3.0|       6.0|         0.0|\n",
      "|    9.2|   28.0|     0.0|         24.0|        11.0|         9.0|       45.0|       16.0|     1017.6|     1012.8|       13.0|      0.0|      10.0|       1.0|         0.0|\n",
      "|   17.5|   32.3|     1.0|         41.0|         7.0|        20.0|       82.0|       33.0|     1010.8|     1006.0|        0.0|      0.0|       8.0|      10.0|         0.0|\n",
      "+-------+-------+--------+-------------+------------+------------+-----------+-----------+-----------+-----------+-----------+---------+----------+----------+------------+\n",
      "only showing top 5 rows\n",
      "\n"
     ]
    }
   ],
   "source": [
    "#7: merging two dataframe after converting to double \n",
    "#8: add column with same value for join purpose \n",
    "import pyspark.sql.functions as com\n",
    "df11=WA_df_1.withColumn('raw_index', com.monotonically_increasing_id())\n",
    "df22=WA_df_2.withColumn('raw_index', com.monotonically_increasing_id())\n",
    "df13 = df11.join(df22,['raw_index'])\n",
    "#9: once is it merged, drop the index column \n",
    "WA_df_step_6 = df13.drop('raw_index')\n",
    "#10: document ready for step 7 \n",
    "#WA_df_step_6.printSchema()\n",
    "WA_df_step_6.show(5)"
   ]
  },
  {
   "cell_type": "markdown",
   "metadata": {},
   "source": [
    "# Step 07: Create the feature vector and divide the dataset"
   ]
  },
  {
   "cell_type": "code",
   "execution_count": 19,
   "metadata": {
    "scrolled": false
   },
   "outputs": [
    {
     "name": "stdout",
     "output_type": "stream",
     "text": [
      "+--------------------+-----+\n",
      "|            features|label|\n",
      "+--------------------+-----+\n",
      "|[13.4,22.9,0.6,44...|  0.0|\n",
      "|[7.4,25.1,0.0,44....|  0.0|\n",
      "|[12.9,25.7,0.0,46...|  0.0|\n",
      "|[9.2,28.0,0.0,24....|  0.0|\n",
      "|[17.5,32.3,1.0,41...|  0.0|\n",
      "+--------------------+-----+\n",
      "only showing top 5 rows\n",
      "\n"
     ]
    }
   ],
   "source": [
    "# Step 07: Create the feature vector and divide the dataset\n",
    "from pyspark.ml.linalg import Vectors\n",
    "from pyspark.ml.feature import VectorAssembler\n",
    "\n",
    "# excluding RainTomorrow \n",
    "assembler = VectorAssembler(inputCols=['MinTemp',\\\n",
    " 'MaxTemp',\\\n",
    " 'Rainfall',\\\n",
    " 'WindGustSpeed',\\\n",
    " 'WindSpeed9am',\\\n",
    " 'WindSpeed3pm',\\\n",
    " 'Humidity9am',\\\n",
    " 'Humidity3pm',\\\n",
    " 'Pressure9am',\\\n",
    " 'Pressure3pm',\\\n",
    " 'WindGustDir',\\\n",
    " 'WindDir9am',\\\n",
    " 'WindDir3pm',\\\n",
    " 'RainToday'],outputCol='features')\n",
    "output = assembler.transform(WA_df_step_6)\n",
    "#output.columns\n",
    "WA_df_step_7 = output.select('features','RainTomorrow')\n",
    "WA_df_step_7 = WA_df_step_7.withColumnRenamed('RainTomorrow','label')\n",
    "WA_df_step_7.show(5)"
   ]
  },
  {
   "cell_type": "code",
   "execution_count": 20,
   "metadata": {
    "scrolled": false
   },
   "outputs": [
    {
     "name": "stdout",
     "output_type": "stream",
     "text": [
      "training data:99473, testing data:42720\n"
     ]
    }
   ],
   "source": [
    "train_data,test_data=WA_df_step_7.randomSplit([0.7,0.3])\n",
    "print(f'training data:{train_data.count()}, testing data:{test_data.count()}')"
   ]
  },
  {
   "cell_type": "markdown",
   "metadata": {},
   "source": [
    "# Step 08: Apply machine learning classification algorithms on the dataset and "
   ]
  },
  {
   "cell_type": "code",
   "execution_count": 21,
   "metadata": {},
   "outputs": [],
   "source": [
    "prediction_list = list()"
   ]
  },
  {
   "cell_type": "code",
   "execution_count": 22,
   "metadata": {
    "scrolled": true
   },
   "outputs": [
    {
     "name": "stdout",
     "output_type": "stream",
     "text": [
      "Prediction using logistic regression has good accuracy of: 0.818665968343389\n"
     ]
    }
   ],
   "source": [
    "# LogisticRegression\n",
    "from pyspark.ml.classification import LogisticRegression\n",
    "from pyspark.ml.evaluation import BinaryClassificationEvaluator, MulticlassClassificationEvaluator\n",
    "lr = LogisticRegression()\n",
    "lr_result =lr.fit(train_data)\n",
    "lr_trans = lr_result.transform(test_data)\n",
    "prediction_list.append(lr_trans)\n",
    "rain_evaluation = MulticlassClassificationEvaluator()\n",
    "lr_predict = rain_evaluation.evaluate(lr_trans)\n",
    "#lr_final_prediction = rain_evaluation.evaluate(lr_predict.predictions)\n",
    "print(f\"Prediction using logistic regression has good accuracy of: {lr_predict}\")"
   ]
  },
  {
   "cell_type": "code",
   "execution_count": 23,
   "metadata": {},
   "outputs": [],
   "source": [
    "from pyspark.ml import Pipeline\n",
    "from pyspark.ml.classification import RandomForestClassifier \n",
    "from pyspark.ml.classification import DecisionTreeClassifier\n",
    "from pyspark.ml.classification import GBTClassifier"
   ]
  },
  {
   "cell_type": "code",
   "execution_count": 24,
   "metadata": {},
   "outputs": [],
   "source": [
    "# DecisionTreeClassifier\n",
    "DT = DecisionTreeClassifier()\n",
    "# RandomForestClassifier\n",
    "RF = RandomForestClassifier() # number of tree = defaul \n",
    "# GBTClassifier  \n",
    "GBT = GBTClassifier()"
   ]
  },
  {
   "cell_type": "code",
   "execution_count": 25,
   "metadata": {},
   "outputs": [],
   "source": [
    "DT_model = DT.fit(train_data)\n",
    "RF_model = RF.fit(train_data)\n",
    "GBT_model = GBT.fit(train_data)"
   ]
  },
  {
   "cell_type": "code",
   "execution_count": 26,
   "metadata": {},
   "outputs": [],
   "source": [
    "DT_prediction = DT_model.transform(test_data)\n",
    "prediction_list.append(DT_prediction)\n",
    "RF_prediction = RF_model.transform(test_data)\n",
    "prediction_list.append(RF_prediction)\n",
    "GBT_prediction = GBT_model.transform(test_data)\n",
    "prediction_list.append(GBT_prediction)"
   ]
  },
  {
   "cell_type": "code",
   "execution_count": 27,
   "metadata": {},
   "outputs": [],
   "source": [
    "final_prediction = MulticlassClassificationEvaluator(metricName = 'accuracy')"
   ]
  },
  {
   "cell_type": "code",
   "execution_count": 28,
   "metadata": {
    "scrolled": true
   },
   "outputs": [
    {
     "name": "stdout",
     "output_type": "stream",
     "text": [
      "decision tree provides good prediction of:0.8318586142322097\n"
     ]
    }
   ],
   "source": [
    "DT_final_prediction=final_prediction.evaluate(DT_prediction)\n",
    "print(f\"decision tree provides good prediction of:{DT_final_prediction}\")"
   ]
  },
  {
   "cell_type": "code",
   "execution_count": 29,
   "metadata": {},
   "outputs": [
    {
     "name": "stdout",
     "output_type": "stream",
     "text": [
      "random forest provides good prediction of:0.8311563670411986\n"
     ]
    }
   ],
   "source": [
    "RF_final_prediction=final_prediction.evaluate(RF_prediction)\n",
    "print(f\"random forest provides good prediction of:{RF_final_prediction}\")"
   ]
  },
  {
   "cell_type": "code",
   "execution_count": 30,
   "metadata": {
    "scrolled": true
   },
   "outputs": [
    {
     "name": "stdout",
     "output_type": "stream",
     "text": [
      " GBT provides good prediction of:0.8397940074906367\n"
     ]
    }
   ],
   "source": [
    "GBT_final_prediction=final_prediction.evaluate(GBT_prediction)\n",
    "print(f\" GBT provides good prediction of:{GBT_final_prediction}\")"
   ]
  },
  {
   "cell_type": "code",
   "execution_count": 41,
   "metadata": {
    "scrolled": true
   },
   "outputs": [
    {
     "data": {
      "image/png": "[encoded data removed]",
      "text/plain": [
       "<Figure size 432x288 with 1 Axes>"
      ]
     },
     "metadata": {
      "needs_background": "light"
     },
     "output_type": "display_data"
    }
   ],
   "source": [
    "import numpy as np\n",
    "import matplotlib.pyplot as plt\n",
    "\n",
    "#Algorithms \n",
    "x = ['LogisticRegression', 'DecisionTree', 'RandomForest','GBT'] \n",
    "\n",
    "#Accuracy\n",
    "y = [lr_predict, DT_final_prediction, RF_final_prediction, GBT_final_prediction]\n",
    "\n",
    "y_pos = np.arange(len(y))\n",
    " \n",
    "# Create bars\n",
    "plt.bar(y_pos, y)\n",
    " \n",
    "# Create names on the x-axis\n",
    "plt.xticks(y_pos, x)\n",
    " \n",
    "# Show graphic\n",
    "plt.bar(y_pos, y, color=['black', 'salmon', 'springgreen', 'aquamarine', 'pink'])\n",
    "plt.xticks(y_pos, x)\n",
    "plt.xticks(y_pos, x, rotation='vertical')\n",
    "\n",
    "\n",
    "plt.show()"
   ]
  },
  {
   "cell_type": "markdown",
   "metadata": {},
   "source": [
    "# Step 09: Calculate the confusion matrix and find the precision, recall, and F1"
   ]
  },
  {
   "cell_type": "code",
   "execution_count": 32,
   "metadata": {},
   "outputs": [],
   "source": [
    "from sklearn.metrics import confusion_matrix\n",
    "import itertools\n",
    "\n",
    "def plot_confusion_matrix(confusion_matrix, normalize=False, cmap=plt.cm.Blues):\n",
    "    \n",
    "    if normalize:\n",
    "        confusion_matrix = confusion_matrix.astype('float') / confusion_matrix.sum(axis=1)[:, np.newaxis]\n",
    "        font_format = '.2f' \n",
    "        print(\"Normalized confusion matrix\")\n",
    "    else:\n",
    "        font_format = 'd'\n",
    "        print('Non-normalization Confusion matrix')\n",
    "\n",
    "    print(confusion_matrix)\n",
    "    \n",
    "    plt.imshow(confusion_matrix, interpolation='nearest', cmap=cmap)\n",
    "    plt.colorbar()\n",
    "    \n",
    "    thresh = confusion_matrix.max() / 2.\n",
    "    for i, j in itertools.product(range(confusion_matrix.shape[0]), range(confusion_matrix.shape[1])):\n",
    "        plt.text(j, i, format(confusion_matrix[i, j], font_format),\n",
    "                 horizontalalignment=\"center\",\n",
    "                 color=\"white\" if confusion_matrix[i, j] > thresh else \"black\",\n",
    "                 size = 24,\n",
    "                )\n",
    "        \n",
    "    plt.tight_layout()\n",
    "    plt.ylabel('True Label')\n",
    "    plt.xlabel('Predicted Label')\n",
    "    plt.show()"
   ]
  },
  {
   "cell_type": "code",
   "execution_count": 33,
   "metadata": {},
   "outputs": [],
   "source": [
    "def get_matrix(predictions):\n",
    "    y_true = predictions.select(\"label\")\n",
    "    y_true = y_true.toPandas()\n",
    "    y_pred = predictions.select(\"prediction\")\n",
    "    y_pred = y_pred.toPandas()\n",
    "    return confusion_matrix(y_true, y_pred)\n",
    "\n",
    "def get_accuracy(matrix):\n",
    "    TP = matrix[0][0]\n",
    "    FP = matrix[1][0]\n",
    "    FN = matrix[0][1]\n",
    "    TN = matrix[1][1]    \n",
    "    precision = (TP + TN) / (TP + TN + FP + FN)\n",
    "    return precision\n",
    "\n",
    "\n",
    "def get_precision(matrix):\n",
    "    TP = matrix[0][0]\n",
    "    FP = matrix[1][0]\n",
    "    precision = TP / (TP + FP)\n",
    "    return precision\n",
    "    \n",
    "def get_recall(matrix):\n",
    "    TP = matrix[0][0]\n",
    "    FN = matrix[0][1]\n",
    "    recall = TP / (TP + FN)\n",
    "    return recall\n",
    "\n",
    "def get_f1_score(precision, recall):\n",
    "    f1_score = 2 / ((1 / precision) + (1 / recall))\n",
    "    return f1_score"
   ]
  },
  {
   "cell_type": "code",
   "execution_count": 34,
   "metadata": {},
   "outputs": [],
   "source": [
    "def show_matrix(matrix):\n",
    "    accuracy = get_accuracy(matrix)\n",
    "    precision = get_precision(matrix)\n",
    "    recall = get_recall(matrix)\n",
    "    f1_score = get_f1_score(precision, recall)\n",
    "    print('Accuracy: %.2f' % accuracy)\n",
    "    print('Precision: %.2f' % precision)\n",
    "    print('Recall: %.2f' % recall)\n",
    "    print('F1 Score: %.2f' % f1_score)\n",
    "    plot_confusion_matrix(matrix)\n",
    "    plot_confusion_matrix(matrix, normalize=True)"
   ]
  },
  {
   "cell_type": "code",
   "execution_count": 35,
   "metadata": {},
   "outputs": [],
   "source": [
    "# Step 09: Calculate the confusion matrix and find the precision, recall, and F1\n",
    "# score of each classification algorithm. Explain how the accuracy of the\n",
    "# predication can be improved? "
   ]
  },
  {
   "cell_type": "code",
   "execution_count": 36,
   "metadata": {},
   "outputs": [
    {
     "data": {
      "text/plain": [
       "[DataFrame[features: vector, label: double, rawPrediction: vector, probability: vector, prediction: double],\n",
       " DataFrame[features: vector, label: double, rawPrediction: vector, probability: vector, prediction: double],\n",
       " DataFrame[features: vector, label: double, rawPrediction: vector, probability: vector, prediction: double],\n",
       " DataFrame[features: vector, label: double, rawPrediction: vector, probability: vector, prediction: double]]"
      ]
     },
     "execution_count": 36,
     "metadata": {},
     "output_type": "execute_result"
    }
   ],
   "source": [
    "prediction_list"
   ]
  },
  {
   "cell_type": "markdown",
   "metadata": {},
   "source": [
    "## Logistic Regression"
   ]
  },
  {
   "cell_type": "code",
   "execution_count": 37,
   "metadata": {},
   "outputs": [
    {
     "name": "stdout",
     "output_type": "stream",
     "text": [
      "Accuracy: 0.83\n",
      "Precision: 0.85\n",
      "Recall: 0.95\n",
      "F1 Score: 0.90\n",
      "Non-normalization Confusion matrix\n",
      "[[31265  1729]\n",
      " [ 5382  4344]]\n"
     ]
    },
    {
     "data": {
      "image/png": "[encoded data removed]",
      "text/plain": [
       "<Figure size 432x288 with 2 Axes>"
      ]
     },
     "metadata": {
      "needs_background": "light"
     },
     "output_type": "display_data"
    },
    {
     "name": "stdout",
     "output_type": "stream",
     "text": [
      "Normalized confusion matrix\n",
      "[[0.94759653 0.05240347]\n",
      " [0.55336212 0.44663788]]\n"
     ]
    },
    {
     "data": {
      "image/png": "[encoded data removed]",
      "text/plain": [
       "<Figure size 432x288 with 2 Axes>"
      ]
     },
     "metadata": {
      "needs_background": "light"
     },
     "output_type": "display_data"
    }
   ],
   "source": [
    "matrix = get_matrix(prediction_list[0])\n",
    "show_matrix(matrix)"
   ]
  },
  {
   "cell_type": "markdown",
   "metadata": {},
   "source": [
    "## Decision Tree"
   ]
  },
  {
   "cell_type": "code",
   "execution_count": 38,
   "metadata": {},
   "outputs": [
    {
     "name": "stdout",
     "output_type": "stream",
     "text": [
      "Accuracy: 0.83\n",
      "Precision: 0.85\n",
      "Recall: 0.96\n",
      "F1 Score: 0.90\n",
      "Non-normalization Confusion matrix\n",
      "[[31576  1418]\n",
      " [ 5765  3961]]\n"
     ]
    },
    {
     "data": {
      "image/png": "[encoded data removed]",
      "text/plain": [
       "<Figure size 432x288 with 2 Axes>"
      ]
     },
     "metadata": {
      "needs_background": "light"
     },
     "output_type": "display_data"
    },
    {
     "name": "stdout",
     "output_type": "stream",
     "text": [
      "Normalized confusion matrix\n",
      "[[0.95702249 0.04297751]\n",
      " [0.59274111 0.40725889]]\n"
     ]
    },
    {
     "data": {
      "image/png": "[encoded data removed]",
      "text/plain": [
       "<Figure size 432x288 with 2 Axes>"
      ]
     },
     "metadata": {
      "needs_background": "light"
     },
     "output_type": "display_data"
    }
   ],
   "source": [
    "matrix = get_matrix(prediction_list[1])\n",
    "show_matrix(matrix)"
   ]
  },
  {
   "cell_type": "markdown",
   "metadata": {},
   "source": [
    "## Random Forest"
   ]
  },
  {
   "cell_type": "code",
   "execution_count": 39,
   "metadata": {},
   "outputs": [
    {
     "name": "stdout",
     "output_type": "stream",
     "text": [
      "Accuracy: 0.83\n",
      "Precision: 0.84\n",
      "Recall: 0.97\n",
      "F1 Score: 0.90\n",
      "Non-normalization Confusion matrix\n",
      "[[31979  1015]\n",
      " [ 6198  3528]]\n"
     ]
    },
    {
     "data": {
      "image/png": "[encoded data removed]",
      "text/plain": [
       "<Figure size 432x288 with 2 Axes>"
      ]
     },
     "metadata": {
      "needs_background": "light"
     },
     "output_type": "display_data"
    },
    {
     "name": "stdout",
     "output_type": "stream",
     "text": [
      "Normalized confusion matrix\n",
      "[[0.96923683 0.03076317]\n",
      " [0.63726095 0.36273905]]\n"
     ]
    },
    {
     "data": {
      "image/png": "[encoded data removed]",
      "text/plain": [
       "<Figure size 432x288 with 2 Axes>"
      ]
     },
     "metadata": {
      "needs_background": "light"
     },
     "output_type": "display_data"
    }
   ],
   "source": [
    "matrix = get_matrix(prediction_list[2])\n",
    "show_matrix(matrix)"
   ]
  },
  {
   "cell_type": "markdown",
   "metadata": {},
   "source": [
    "## GBT"
   ]
  },
  {
   "cell_type": "code",
   "execution_count": 40,
   "metadata": {},
   "outputs": [
    {
     "name": "stdout",
     "output_type": "stream",
     "text": [
      "Accuracy: 0.84\n",
      "Precision: 0.86\n",
      "Recall: 0.95\n",
      "F1 Score: 0.90\n",
      "Non-normalization Confusion matrix\n",
      "[[31341  1653]\n",
      " [ 5191  4535]]\n"
     ]
    },
    {
     "data": {
      "image/png": "[encoded data removed]",
      "text/plain": [
       "<Figure size 432x288 with 2 Axes>"
      ]
     },
     "metadata": {
      "needs_background": "light"
     },
     "output_type": "display_data"
    },
    {
     "name": "stdout",
     "output_type": "stream",
     "text": [
      "Normalized confusion matrix\n",
      "[[0.94989998 0.05010002]\n",
      " [0.53372404 0.46627596]]\n"
     ]
    },
    {
     "data": {
      "image/png": "[encoded data removed]",
      "text/plain": [
       "<Figure size 432x288 with 2 Axes>"
      ]
     },
     "metadata": {
      "needs_background": "light"
     },
     "output_type": "display_data"
    }
   ],
   "source": [
    "matrix = get_matrix(prediction_list[3])\n",
    "show_matrix(matrix)"
   ]
  },
  {
   "cell_type": "markdown",
   "metadata": {},
   "source": [
    "## How to improve performance?\n",
    "* Improve Performance with Data.\n",
    "    * Add more Data\n",
    "    * Clean the data\n",
    "        * Outliers \n",
    "        * Missing Value\n",
    "    * Data Resample\n",
    "        * Cross Validation\n",
    "    * Feature Engineering\n",
    "        * Data Normalization\n",
    "        * Data Regulation\n",
    "    * Feature Selection\n",
    "        * Select features with domain knowledge\n",
    "        * Select features with data visualization\n",
    "* Improve Performance with Algorithms.\n",
    "    * Try different algorithms like deep learning.\n",
    "* Improve Performance with Algorithm Tuning.\n",
    "    * Tune the parameters\n",
    "* Improve Performance with Ensembles.\n",
    "    * Bagging\n",
    "    * Boosting"
   ]
  },
  {
   "cell_type": "code",
   "execution_count": null,
   "metadata": {},
   "outputs": [],
   "source": []
  }
 ],
 "metadata": {
  "kernelspec": {
   "display_name": "Python 3",
   "language": "python",
   "name": "python3"
  },
  "language_info": {
   "codemirror_mode": {
    "name": "ipython",
    "version": 3
   },
   "file_extension": ".py",
   "mimetype": "text/x-python",
   "name": "python",
   "nbconvert_exporter": "python",
   "pygments_lexer": "ipython3",
   "version": "3.6.8"
  }
 },
 "nbformat": 4,
 "nbformat_minor": 2
}
